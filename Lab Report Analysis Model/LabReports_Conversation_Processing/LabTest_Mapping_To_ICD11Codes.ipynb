{
  "cells": [
    {
      "cell_type": "code",
      "execution_count": null,
      "metadata": {
        "colab": {
          "base_uri": "https://localhost:8080/",
          "height": 36
        },
        "id": "U_WkVmJv-U6t",
        "outputId": "e9f7d8b6-50f2-475b-96e4-364f4a86160e"
      },
      "outputs": [],
      "source": [
        "#Create a langchain project on langsmith and create an api key\n",
        "\n",
        "from google.colab import userdata\n",
        "userdata.get('LANGCHAIN_API_KEY')\n",
        "userdata.get('OPENAI_API_KEY')\n",
        "userdata.get('LANGCHAIN_PROJECT')"
      ]
    },
    {
      "cell_type": "code",
      "execution_count": null,
      "metadata": {
        "colab": {
          "base_uri": "https://localhost:8080/",
          "height": 1000
        },
        "id": "F5lFnAMI-XAg",
        "outputId": "103e5dca-de86-4c4b-bdd8-3694dc30adeb"
      },
      "outputs": [],
      "source": [
        "# Tiktoken is an open-source Python library that breaks text into tokens\n",
        "#Langchian_community sued to make returiever \n",
        "#Used chromaDB for database\n",
        "\n",
        "!pip install langchain_community tiktoken langchain-openai langchainhub chromadb langchain"
      ]
    },
    {
      "cell_type": "code",
      "execution_count": null,
      "metadata": {
        "colab": {
          "base_uri": "https://localhost:8080/",
          "height": 36
        },
        "id": "TvoyHFvJ-W8G",
        "outputId": "eb9745da-2b96-4358-94f2-37a5279cb751"
      },
      "outputs": [],
      "source": [
        "import langchain\n",
        "langchain.__version__"
      ]
    },
    {
      "cell_type": "code",
      "execution_count": null,
      "metadata": {
        "id": "EcS2MW5N-W26"
      },
      "outputs": [],
      "source": [
        "#create .env and add OPENAI_API_KEY, LANGCHAIN_API_KEY \n",
        "\n",
        "import os\n",
        "os.environ['LANGCHAIN_TRACING_V2'] = 'true'\n",
        "os.environ['LANGCHAIN_ENDPOINT'] = 'https://api.smith.langchain.com'\n",
        "os.environ[\"LANGCHAIN_API_KEY\"] = os.getenv(\"LANGCHAIN_API_KEY\") \n",
        "os.environ[\"OPENAI_API_KEY\"] = os.getenv(\"OPENAI_API_KEY\")"
      ]
    },
    {
      "cell_type": "code",
      "execution_count": null,
      "metadata": {
        "colab": {
          "base_uri": "https://localhost:8080/"
        },
        "id": "TFicherm-Wyu",
        "outputId": "f732f530-7ba0-48ea-b9e1-a0a6ff075c73"
      },
      "outputs": [],
      "source": [
        "import bs4\n",
        "from langchain import hub\n",
        "from langchain.text_splitter import RecursiveCharacterTextSplitter\n",
        "from langchain_community.vectorstores import Chroma\n",
        "from langchain_community.document_loaders import WebBaseLoader\n",
        "from langchain_core.output_parsers import StrOutputParser\n",
        "from langchain_core.runnables import RunnablePassthrough\n",
        "from langchain_openai import ChatOpenAI, OpenAIEmbeddings"
      ]
    },
    {
      "cell_type": "code",
      "execution_count": null,
      "metadata": {
        "colab": {
          "base_uri": "https://localhost:8080/"
        },
        "id": "c7kFd5ap-WuM",
        "outputId": "8122f28e-767b-48fd-e441-36562278f131"
      },
      "outputs": [],
      "source": [
        "from langchain_openai import ChatOpenAI, OpenAIEmbeddings\n",
        "\n",
        "llm = ChatOpenAI(model_name=\"gpt-3.5-turbo\", temperature=0)\n",
        "med_llm = llm.invoke(\"Tell me how are reference values calculated in lab test reports\")\n",
        "med_llm"
      ]
    },
    {
      "cell_type": "code",
      "execution_count": null,
      "metadata": {
        "colab": {
          "base_uri": "https://localhost:8080/",
          "height": 147
        },
        "id": "Hhs3BzDv-WYO",
        "outputId": "aba94249-10b9-429a-badb-256adbe1b34d"
      },
      "outputs": [],
      "source": [
        "#OutputParser for getting only the output\n",
        "from langchain_core.output_parsers import StrOutputParser\n",
        "\n",
        "output_parser = StrOutputParser()\n",
        "output_parser.invoke(med_llm)"
      ]
    },
    {
      "cell_type": "code",
      "execution_count": null,
      "metadata": {
        "colab": {
          "base_uri": "https://localhost:8080/"
        },
        "id": "3sXK_buY-WT4",
        "outputId": "0ad5b8b1-9269-4d78-b68e-6203699a990a"
      },
      "outputs": [],
      "source": [
        "%pip install pymupdf"
      ]
    },
    {
      "cell_type": "code",
      "execution_count": null,
      "metadata": {
        "id": "tAZH1pWT-WPm"
      },
      "outputs": [],
      "source": []
    },
    {
      "cell_type": "code",
      "execution_count": null,
      "metadata": {
        "id": "2BXiNRvG-WK5"
      },
      "outputs": [],
      "source": []
    },
    {
      "cell_type": "code",
      "execution_count": null,
      "metadata": {
        "colab": {
          "base_uri": "https://localhost:8080/"
        },
        "id": "_CvJRYCb-WH3",
        "outputId": "4615bced-0ec0-45c7-bde8-d6a73d6a2c9d"
      },
      "outputs": [],
      "source": [
        "from langchain.chat_models import ChatOpenAI\n",
        "from langchain.prompts import PromptTemplate\n",
        "from langchain.chains import LLMChain\n",
        "\n",
        "# Set up OpenAI LLM (Replace with your API Key)\n",
        "llm = ChatOpenAI(model_name=\"gpt-4\", temperature=0, openai_api_key=os.getenv(\"OPENAI_API_KEY\"))\n",
        "\n",
        "# Define prompt template\n",
        "prompt_template = PromptTemplate(\n",
        "    input_variables=[\"text\"],\n",
        "    template=\"Extract only the lab test names from the following medical report:\\n{text}\\nReturn them as a comma-separated list.\"\n",
        ")\n",
        "\n",
        "# Create LangChain extraction pipeline\n",
        "chain = LLMChain(llm=llm, prompt=prompt_template)\n",
        "\n",
        "# Example report\n",
        "medical_report = \"\"\"\n",
        "Patient's CBC report shows Hemoglobin: 13.5 g/dL, WBC Count: 6,500/μL, Platelet Count: 250,000.\n",
        "Cholesterol levels are high. Liver Function Test: ALT: 45 U/L, AST: 42 U/L.\n",
        "\"\"\"\n",
        "\n",
        "# Run the extraction\n",
        "lab_tests = chain.run(medical_report)\n",
        "\n",
        "print(\"Extracted Lab Tests:\", lab_tests)"
      ]
    },
    {
      "cell_type": "code",
      "execution_count": null,
      "metadata": {
        "colab": {
          "base_uri": "https://localhost:8080/"
        },
        "id": "D-PNmSeX_Yrk",
        "outputId": "56e804d0-9964-4ba9-df89-8d2fc1880f56"
      },
      "outputs": [],
      "source": [
        "from langchain.vectorstores import Chroma\n",
        "from langchain.embeddings import OpenAIEmbeddings\n",
        "from langchain.document_loaders import PyMuPDFLoader\n",
        "from langchain.chains import RetrievalQA\n",
        "\n",
        "#PyMuPDF is a high-performance Python library for data extraction from PDFs\n",
        "# Load lab report PDFs\n",
        "loader = PyMuPDFLoader(\"/content/137253305_bgaawavakhroaw0xoj05dgcq.pdf\")\n",
        "documents = loader.load()\n",
        "\n",
        "# Create vector store\n",
        "vectorstore = Chroma.from_documents(documents, embedding=OpenAIEmbeddings())\n",
        "\n",
        "# Create retriever chain\n",
        "retriever = vectorstore.as_retriever(search_kwargs={\"k\": 5})  # Get top 5 most relevant results\n",
        "qa = RetrievalQA.from_chain_type(llm=ChatOpenAI(), retriever=retriever)\n",
        "\n",
        "query = \"List all lab tests mentioned in the report.\"\n",
        "response = qa.run(query)\n",
        "\n",
        "print(\"Extracted Lab Tests:\", response)"
      ]
    },
    {
      "cell_type": "code",
      "execution_count": null,
      "metadata": {
        "colab": {
          "base_uri": "https://localhost:8080/"
        },
        "id": "Ey7ro0Fu_k30",
        "outputId": "eafac19c-2dd4-41b8-bcec-03afcbc3f7c7"
      },
      "outputs": [],
      "source": [
        "%pip install requests pandas\n"
      ]
    },
    {
      "cell_type": "code",
      "execution_count": null,
      "metadata": {
        "colab": {
          "base_uri": "https://localhost:8080/"
        },
        "id": "viNAY6VBJr-V",
        "outputId": "dd25de0f-99b0-402f-c695-0f1c82e408ba"
      },
      "outputs": [],
      "source": [
        "#Create an account on WHO's ICD https://icd.who.int/en and get access to client id and client secret\n",
        "import requests\n",
        "\n",
        "# ICD-11 API Authentication Details\n",
        "ICD_TOKEN_URL = \"https://icdaccessmanagement.who.int/connect/token\"\n",
        "ICD_API_SEARCH_URL = \"https://icd.who.int/icdapi/api/v1/icd11/mms/search\"\n",
        "\n",
        "# Replace with your actual API credentials from WHO present in .env\n",
        "CLIENT_ID = os.getenv(\"CLIENT_ID\")\n",
        "CLIENT_SECRET = os.getenv(\"CLIENT_SECRET\")\n",
        "SCOPE = \"icdapi_access\"\n",
        "GRANT_TYPE = \"client_credentials\"\n",
        "\n",
        "# Function to get an OAuth token\n",
        "def get_icd11_token():\n",
        "    payload = {\n",
        "        \"client_id\": CLIENT_ID,\n",
        "        \"client_secret\": CLIENT_SECRET,\n",
        "        \"scope\": SCOPE,\n",
        "        \"grant_type\": GRANT_TYPE\n",
        "    }\n",
        "\n",
        "    response = requests.post(ICD_TOKEN_URL, data=payload, verify=False).json()\n",
        "\n",
        "    if \"access_token\" in response:\n",
        "        return response[\"access_token\"]\n",
        "    else:\n",
        "        print(\"Error getting token:\", response)\n",
        "        return None\n",
        "\n",
        "# Function to get ICD-11 codes for lab tests\n",
        "def get_icd11_code(test_name, token):\n",
        "    headers = {\n",
        "        \"Authorization\": f\"Bearer {token}\",\n",
        "        \"Accept\": \"application/json\",\n",
        "        \"Accept-Language\": \"en\",\n",
        "        \"API-Version\": \"v2\"\n",
        "    }\n",
        "\n",
        "    # Using the standard ICD-11 entity search URL\n",
        "    search_url = f\"{ICD_API_SEARCH_URL}/search\"\n",
        "    params = {\"q\": test_name, \"flatResults\": True}  # Improve search by simplifying results\n",
        "\n",
        "    response = requests.get(search_url, headers=headers, params=params, verify=False)\n",
        "\n",
        "    if response.status_code == 200:\n",
        "        data = response.json()\n",
        "        if \"matches\" in data and data[\"matches\"]:\n",
        "            return data[\"matches\"][0][\"code\"], data[\"matches\"][0][\"title\"][\"@value\"]\n",
        "\n",
        "    return None, None\n",
        "\n",
        "# Get access token\n",
        "token = get_icd11_token()\n",
        "\n",
        "# Example lab tests extracted\n",
        "lab_tests = [\"Cholera\", \"RBC Count\", \"Cholesterol\"]\n",
        "\n",
        "# Map lab tests to ICD-11 codes\n",
        "if token:\n",
        "    icd_mappings = {test: get_icd11_code(test, token) for test in lab_tests}\n",
        "    print(\"ICD-11 Mappings:\", icd_mappings)\n",
        "else:\n",
        "    print(\"Failed to get ICD-11 API token.\")"
      ]
    },
    {
      "cell_type": "code",
      "execution_count": null,
      "metadata": {
        "colab": {
          "base_uri": "https://localhost:8080/"
        },
        "id": "NYEIr73yLtm4",
        "outputId": "eea7ea5e-2104-4b31-ca0a-cd5497ee6e6f"
      },
      "outputs": [],
      "source": [
        "import requests\n",
        "from langchain.tools import RequestsGetTool\n",
        "from langchain.chat_models import ChatOpenAI\n",
        "from langchain.agents import initialize_agent, AgentType\n",
        "from langchain.tools import Tool\n",
        "from langchain.requests import RequestsWrapper  # ✅ Import this\n",
        "\n",
        "# ICD-11 API Authentication Details\n",
        "ICD_TOKEN_URL = \"https://icdaccessmanagement.who.int/connect/token\"\n",
        "ICD_API_SEARCH_URL = \"https://id.who.int/icd/entity/search\"\n",
        "\n",
        "# Replace with actual WHO API credentials\n",
        "CLIENT_ID = os.getenv(\"CLIENT_ID\")\n",
        "CLIENT_SECRET = os.getenv(\"CLIENT_SECRET\")\n",
        "SCOPE = \"icdapi_access\"\n",
        "GRANT_TYPE = \"client_credentials\"\n",
        "\n",
        "# Function to get an OAuth token\n",
        "def get_icd11_token():\n",
        "    payload = {\n",
        "        \"client_id\": CLIENT_ID,\n",
        "        \"client_secret\": CLIENT_SECRET,\n",
        "        \"scope\": SCOPE,\n",
        "        \"grant_type\": GRANT_TYPE\n",
        "    }\n",
        "    try:\n",
        "        response = requests.post(ICD_TOKEN_URL, data=payload, verify=True)\n",
        "        response.raise_for_status()\n",
        "        return response.json().get(\"access_token\")\n",
        "    except requests.exceptions.RequestException as e:\n",
        "        print(\"Error getting token:\", e)\n",
        "        return None\n",
        "\n",
        "# Initialize Requests Wrapper (✅ Fix for missing `requests_wrapper`)\n",
        "requests_wrapper = RequestsWrapper()\n",
        "\n",
        "# LangChain tool for querying ICD-11 API\n",
        "def fetch_icd11_code(test_name):\n",
        "    token = get_icd11_token()\n",
        "    if not token:\n",
        "        return f\"Failed to authenticate with ICD-11 API.\"\n",
        "\n",
        "    headers = {\n",
        "        \"Authorization\": f\"Bearer {token}\",\n",
        "        \"Accept\": \"application/json\",\n",
        "        \"Accept-Language\": \"en\",\n",
        "        \"API-Version\": \"v2\"\n",
        "    }\n",
        "\n",
        "    params = {\"q\": test_name, \"flatResults\": \"true\"}\n",
        "\n",
        "    tool = RequestsGetTool(requests_wrapper=requests_wrapper, allow_dangerous_requests=True)  # ✅ Fix applied\n",
        "\n",
        "    try:\n",
        "        response = tool.run(ICD_API_SEARCH_URL, params=params, headers=headers)\n",
        "        data = response.json()\n",
        "\n",
        "        if \"destinationEntities\" in data and data[\"destinationEntities\"]:\n",
        "            entity = data[\"destinationEntities\"][0]\n",
        "            return f\"{test_name} → ICD-11 Code: {entity['@id']}, Title: {entity['title']['@value']}\"\n",
        "        else:\n",
        "            return f\"No ICD-11 mapping found for {test_name}.\"\n",
        "\n",
        "    except Exception as e:\n",
        "        return f\"Error fetching ICD-11 code for {test_name}: {str(e)}\"\n",
        "\n",
        "# Initialize LangChain Agent\n",
        "llm = ChatOpenAI(model_name=\"gpt-4\", temperature=0)\n",
        "\n",
        "tools = [\n",
        "    Tool(\n",
        "        name=\"ICD-11 Lookup\",\n",
        "        func=fetch_icd11_code,\n",
        "        description=\"Use this tool to find ICD-11 codes for medical tests\"\n",
        "    )\n",
        "]\n",
        "\n",
        "agent = initialize_agent(tools, llm, agent=AgentType.ZERO_SHOT_REACT_DESCRIPTION, verbose=True)\n",
        "\n",
        "# Example lab tests\n",
        "lab_tests = [\"Cholera\", \"RBC Count\", \"Cholesterol\"]\n",
        "\n",
        "# Get ICD-11 mappings using LangChain\n",
        "for test in lab_tests:\n",
        "    print(agent.run(f\"Find ICD-11 code for {test}\"))"
      ]
    },
    {
      "cell_type": "code",
      "execution_count": null,
      "metadata": {
        "colab": {
          "base_uri": "https://localhost:8080/"
        },
        "id": "-jvPn3x9hU0C",
        "outputId": "0b7ab050-fc78-4851-e720-0f1c5b5c5437"
      },
      "outputs": [],
      "source": [
        "import requests\n",
        "import json\n",
        "from langchain.tools import RequestsGetTool\n",
        "from langchain.chat_models import ChatOpenAI\n",
        "from langchain.agents import initialize_agent, AgentType\n",
        "from langchain.tools import Tool\n",
        "from langchain.requests import RequestsWrapper  # ✅ Fix: Import RequestsWrapper\n",
        "\n",
        "# ICD-11 API Authentication Details\n",
        "ICD_TOKEN_URL = \"https://icdaccessmanagement.who.int/connect/token\"\n",
        "ICD_API_SEARCH_URL = \"https://id.who.int/icd/entity/search\"\n",
        "\n",
        "\n",
        "# Replace with your actual API credentials from WHO\n",
        "CLIENT_ID = os.getenv(\"CLIENT_ID\")\n",
        "CLIENT_SECRET = os.getenv(\"CLIENT_SECRET\")\n",
        "SCOPE = \"icdapi_access\"\n",
        "GRANT_TYPE = \"client_credentials\"\n",
        "\n",
        "# Function to get an OAuth token\n",
        "def get_icd11_token():\n",
        "    payload = {\n",
        "        \"client_id\": CLIENT_ID,\n",
        "        \"client_secret\": CLIENT_SECRET,\n",
        "        \"scope\": SCOPE,\n",
        "        \"grant_type\": GRANT_TYPE\n",
        "    }\n",
        "    try:\n",
        "        response = requests.post(ICD_TOKEN_URL, data=payload, verify=True)\n",
        "        response.raise_for_status()\n",
        "        return response.json().get(\"access_token\")\n",
        "    except requests.exceptions.RequestException as e:\n",
        "        print(\"Error getting token:\", e)\n",
        "        return None\n",
        "\n",
        "# Initialize Requests Wrapper (✅ Fix for missing `requests_wrapper`)\n",
        "requests_wrapper = RequestsWrapper()\n",
        "\n",
        "# LangChain tool for querying ICD-11 API\n",
        "def fetch_icd11_code(test_name):\n",
        "    token = get_icd11_token()\n",
        "    if not token:\n",
        "        return f\"Failed to authenticate with ICD-11 API.\"\n",
        "\n",
        "    headers = {\n",
        "        \"Authorization\": f\"Bearer {token}\",\n",
        "        \"Accept\": \"application/json\",\n",
        "        \"Accept-Language\": \"en\",\n",
        "        \"API-Version\": \"v2\"\n",
        "    }\n",
        "\n",
        "    params = {\"q\": test_name, \"flatResults\": \"true\"}\n",
        "\n",
        "    tool = RequestsGetTool(requests_wrapper=requests_wrapper, allow_dangerous_requests=True)  # ✅ Fix applied\n",
        "\n",
        "    try:\n",
        "        response_str = tool.run(ICD_API_SEARCH_URL, params=params, headers=headers)  # ❌ Returns string, not JSON\n",
        "        response_json = json.loads(response_str)  # ✅ Fix: Convert string to JSON manually\n",
        "\n",
        "        if \"destinationEntities\" in response_json and response_json[\"destinationEntities\"]:\n",
        "            entity = response_json[\"destinationEntities\"][0]\n",
        "            return f\"{test_name} → ICD-11 Code: {entity['@id']}, Title: {entity['title']['@value']}\"\n",
        "        else:\n",
        "            return f\"No ICD-11 mapping found for {test_name}.\"\n",
        "\n",
        "    except json.JSONDecodeError:\n",
        "        return f\"Error decoding JSON response for {test_name}.\"\n",
        "    except Exception as e:\n",
        "        return f\"Error fetching ICD-11 code for {test_name}: {str(e)}\"\n",
        "\n",
        "# Initialize LangChain Agent\n",
        "llm = ChatOpenAI(model_name=\"gpt-4\", temperature=0)\n",
        "\n",
        "tools = [\n",
        "    Tool(\n",
        "        name=\"ICD-11 Lookup\",\n",
        "        func=fetch_icd11_code,\n",
        "        description=\"Use this tool to find ICD-11 codes for medical tests\"\n",
        "    )\n",
        "]\n",
        "\n",
        "agent = initialize_agent(tools, llm, agent=AgentType.ZERO_SHOT_REACT_DESCRIPTION, verbose=True)\n",
        "\n",
        "# Example lab tests\n",
        "lab_tests = [\"Cholera\", \"RBC Count\", \"Cholesterol\"]\n",
        "\n",
        "# Get ICD-11 mappings using LangChain\n",
        "for test in lab_tests:\n",
        "    print(agent.run(f\"Find ICD-11 code for {test}\"))"
      ]
    },
    {
      "cell_type": "code",
      "execution_count": null,
      "metadata": {
        "colab": {
          "base_uri": "https://localhost:8080/"
        },
        "id": "UqrJ2lApmIru",
        "outputId": "754c0d14-5d8c-4a7b-993a-841c80df9327"
      },
      "outputs": [],
      "source": [
        "%pip install fuzzywuzzy"
      ]
    },
    {
      "cell_type": "code",
      "execution_count": null,
      "metadata": {
        "colab": {
          "base_uri": "https://localhost:8080/"
        },
        "id": "etGQ0NNhjwNq",
        "outputId": "610027c1-008c-4b60-aeec-27977e740587"
      },
      "outputs": [],
      "source": [
        "#This is for mapping of extracted lab tests to actual icd 11 codes which is exxtracted from ICD 11 WHO Website and pushed as a csv over here ICD_11_Codes.csv\n",
        "#This is supposed to be made into modular code.\n",
        "import pandas as pd\n",
        "from fuzzywuzzy import process  # For approximate text matching\n",
        "\n",
        "# Load ICD-11 CSV file\n",
        "icd_data = pd.read_csv(\"/content/ICD_11_Codes.csv\")  # Ensure this file has 'Code' & 'Title'\n",
        "\n",
        "# Ensure 'Title' column is properly formatted\n",
        "icd_data['Title'] = icd_data['Title'].astype(str).str.lower().str.strip()\n",
        "\n",
        "# Convert the 'Title' column to a list for fuzzy matching\n",
        "icd_titles = icd_data['Title'].tolist()\n",
        "\n",
        "# Sample lab tests list\n",
        "lab_tests = [\"Cholera\", \"RBC Count\", \"Cholesterol\"]\n",
        "\n",
        "# Function to find the best ICD-11 match\n",
        "def find_icd_code(test_name):\n",
        "    test_name = test_name.lower().strip()\n",
        "\n",
        "    # Ensure there are valid titles in the list\n",
        "    if not icd_titles:\n",
        "        return \"No ICD-11 match found\"\n",
        "\n",
        "    # Perform fuzzy matching\n",
        "    match = process.extractOne(test_name, icd_titles)\n",
        "\n",
        "    if match:  # Ensure a match was found\n",
        "        best_match, score = match  # Unpacking correctly\n",
        "        if score > 80:  # Only consider matches above a threshold (80% similarity)\n",
        "            icd_code = icd_data.loc[icd_data['Title'] == best_match, 'Code'].values\n",
        "            return icd_code[0] if len(icd_code) > 0 else \"No ICD-11 match found\"\n",
        "\n",
        "    return \"No ICD-11 match found\"\n",
        "\n",
        "# Map lab tests to ICD-11 codes\n",
        "icd_mapping = {test: find_icd_code(test) for test in lab_tests}\n",
        "\n",
        "# Print results\n",
        "print(\"ICD-11 Mappings:\", icd_mapping)"
      ]
    },
    {
      "cell_type": "code",
      "execution_count": null,
      "metadata": {
        "id": "JAYeT05Gl_-A"
      },
      "outputs": [],
      "source": []
    }
  ],
  "metadata": {
    "colab": {
      "provenance": []
    },
    "kernelspec": {
      "display_name": "Python 3",
      "name": "python3"
    },
    "language_info": {
      "name": "python"
    }
  },
  "nbformat": 4,
  "nbformat_minor": 0
}
